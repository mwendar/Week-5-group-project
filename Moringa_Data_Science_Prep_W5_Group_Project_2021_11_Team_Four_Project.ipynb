{
  "nbformat": 4,
  "nbformat_minor": 0,
  "metadata": {
    "colab": {
      "name": "Moringa_Data_Science_Prep_W5_Group_Project_2021_11_Team_Four_Project",
      "provenance": [],
      "collapsed_sections": [
        "VSnOCZ5-IPCi",
        "HToJZ2gBPawZ",
        "IICLGbvBRYHq",
        "RAVzK5O6IR8v",
        "ogvHnWWk0URF",
        "Wg_HInjk0rJG"
      ],
      "include_colab_link": true
    },
    "kernelspec": {
      "name": "python3",
      "display_name": "Python 3"
    }
  },
  "cells": [
    {
      "cell_type": "markdown",
      "metadata": {
        "id": "view-in-github",
        "colab_type": "text"
      },
      "source": [
        "<a href=\"https://colab.research.google.com/github/mwendar/Week-5-group-project/blob/main/Moringa_Data_Science_Prep_W5_Group_Project_2021_11_Team_Four_Project.ipynb\" target=\"_parent\"><img src=\"https://colab.research.google.com/assets/colab-badge.svg\" alt=\"Open In Colab\"/></a>"
      ]
    },
    {
      "cell_type": "markdown",
      "metadata": {
        "id": "m0tgCkvzPLEa"
      },
      "source": [
        "# **KENYAN CONFLICTS**\n",
        "**DEFINING THE QUESTION.**\n",
        "\n",
        "**a) Specifying the Data Analytic Question**\n",
        "The research problem is to figure out what were the major causes of conflicts, which cities did they most occur and who were the main perpetrators.\n",
        "\n",
        "**b)Defining the Metric for Success**\n",
        "This analysis requires us to come up with a reccomendation that will help reduce the no of conflicts abundantly and be able to focus on the development of the country.\n",
        "We therefore need to identify  major causes of conflicts ,who wee the major perpertors and how were they involved.and ulitimately which cities were most affected by the conflicts.\n",
        "We will implement the solution by analysing our data and providing insights that arise.\n",
        "\n",
        "**c) Understanding the context**\n",
        "National peace is a treasure that most countries desire to achieve. Conflicts have been a major cause of disruption of activities in Kenya both nationwide and in localities . Conflict has hindered development and led to various problems in the country. Finding the major causes of conflict in Kenya can help the Ministry of Interior & Coordination of National Government focus on stopping those particular conflicts. Therefore, with increased conflicts on a region we tend to have minimal developments  which is essential to long-term economic growth.\n",
        "The data that we are working with in this analysis is in the context of Kenyan conflicts. The main dataset contains cities ,date and years when the conflicts happened,types of conflicts and who were involved in the conflicts and no of fatalities in each case. This data was extracted from** ACLED Conflict Data for Kenya**\n",
        "An understanding of main causes  is key to finding a solution on how to end conflicts.\n",
        "\n",
        "**d) Recording the Experimental Design**\n",
        "Below are the steps we took to implement this solution\n",
        "\n",
        "**1) Business Understanding:** This sheds light to the context of the business question that we are trying to answer hence keep the focus during the data analysis so that we meet the intended objective.\n",
        "\n",
        "**2) Reading the data:** Reading our data with and aim to understand the variables and observations.\n",
        "\n",
        "**3) Checking our data:** This to get details about the dataset, the number of records, the statistal summary,the datatypes in our dataset among others.\n",
        "\n",
        "**4) Data cleaning:** We performed all my data cleaning and preparation to make my data ready for analysis.\n",
        "\n",
        "**5) Challenged the solution:**\n",
        "\n",
        "**6)Conclusion:**\n",
        "\n",
        "The Ministry of Interior & Coordination of National Government has the following as its main objectives:\n",
        "1.   To Identify the major causes of conflict in Kenya.\n",
        "2.   To identify the main actors involved in conflicts.\n",
        "3.   To know the city that is susceptible to most conflict cases.\n",
        "\n",
        "The dataset given has conflict information in Kenya between 1997 and 2015. The research questions were as follows:\n",
        "1. What are the main causes of conflict in Kenya?\n",
        "2. Who is the main actor 1 of conflicts in Kenya?\n",
        "3. Who is the main actor 2 of conflicts in Kenya?\n",
        "4. Which city (admin1) has had the most conflicts?\n",
        "5. Which cities had the most fatalities?\n",
        "\n",
        "We also answer other questions to make us understand our study more.\n",
        "\n",
        "\n",
        " \n"
      ]
    },
    {
      "cell_type": "markdown",
      "metadata": {
        "id": "VSnOCZ5-IPCi"
      },
      "source": [
        "## 1.0 Importing our Libraries"
      ]
    },
    {
      "cell_type": "code",
      "metadata": {
        "id": "3r-KDLvrO44a"
      },
      "source": [
        "# Importing the libraries we will need \n",
        "# Importing the pandas library\n",
        "import pandas as pd\n",
        "\n",
        "# Importing the numpy library\n",
        "import numpy as np\n",
        "\n",
        "#Importing matplotlib library\n",
        "import matplotlib.pyplot as plt"
      ],
      "execution_count": null,
      "outputs": []
    },
    {
      "cell_type": "markdown",
      "metadata": {
        "id": "HToJZ2gBPawZ"
      },
      "source": [
        "## 1.1 Reading the Dataset from our CSV file\n",
        "\n"
      ]
    },
    {
      "cell_type": "markdown",
      "metadata": {
        "id": "LBUr8VUXQX-K"
      },
      "source": [
        "\n",
        "\n",
        "The dataset we will use contains Kenyan conflicts between 1978 and 2015.\n",
        "\n",
        "\n",
        "\n",
        "*   Dataset link for download or access: [Link](https://data.world/acled/8fc7bcd9-5daa-44a8-b219-e707af2cd4a8)\n",
        "\n",
        "\n",
        "\n"
      ]
    },
    {
      "cell_type": "code",
      "metadata": {
        "id": "1acwmZanRNHs"
      },
      "source": [
        "# Let's load the data from the excel file and create the dataframe to be used\n",
        "\n",
        "df=pd.read_excel(\"/content/Kenyan Conflicts.xlsx\")"
      ],
      "execution_count": null,
      "outputs": []
    },
    {
      "cell_type": "markdown",
      "metadata": {
        "id": "IICLGbvBRYHq"
      },
      "source": [
        "## 1.2 Previewing our Dataset\n"
      ]
    },
    {
      "cell_type": "code",
      "metadata": {
        "id": "WrwHg-hzR5BY",
        "colab": {
          "base_uri": "https://localhost:8080/",
          "height": 1000
        },
        "outputId": "24c2526a-4515-4717-b5a5-25bf7571e8a5"
      },
      "source": [
        "#Previewing the first ten rows of our data\n",
        "df.head(10)"
      ],
      "execution_count": null,
      "outputs": [
        {
          "output_type": "execute_result",
          "data": {
            "text/html": [
              "<div>\n",
              "<style scoped>\n",
              "    .dataframe tbody tr th:only-of-type {\n",
              "        vertical-align: middle;\n",
              "    }\n",
              "\n",
              "    .dataframe tbody tr th {\n",
              "        vertical-align: top;\n",
              "    }\n",
              "\n",
              "    .dataframe thead th {\n",
              "        text-align: right;\n",
              "    }\n",
              "</style>\n",
              "<table border=\"1\" class=\"dataframe\">\n",
              "  <thead>\n",
              "    <tr style=\"text-align: right;\">\n",
              "      <th></th>\n",
              "      <th>GWNO</th>\n",
              "      <th>EVENT_ID_CNTY</th>\n",
              "      <th>EVENT_ID_NO_CNTY</th>\n",
              "      <th>EVENT_DATE</th>\n",
              "      <th>YEAR</th>\n",
              "      <th>TIME_PRECISION</th>\n",
              "      <th>EVENT_TYPE</th>\n",
              "      <th>ACTOR1</th>\n",
              "      <th>ALLY_ACTOR_1</th>\n",
              "      <th>INTER1</th>\n",
              "      <th>ACTOR2</th>\n",
              "      <th>ALLY_ACTOR_2</th>\n",
              "      <th>INTER2</th>\n",
              "      <th>INTERACTION</th>\n",
              "      <th>COUNTRY</th>\n",
              "      <th>ADMIN1</th>\n",
              "      <th>ADMIN2</th>\n",
              "      <th>ADMIN3</th>\n",
              "      <th>LOCATION</th>\n",
              "      <th>LATITUDE</th>\n",
              "      <th>LONGITUDE</th>\n",
              "      <th>GEO_PRECISION</th>\n",
              "      <th>SOURCE</th>\n",
              "      <th>NOTES</th>\n",
              "      <th>FATALITIES</th>\n",
              "    </tr>\n",
              "  </thead>\n",
              "  <tbody>\n",
              "    <tr>\n",
              "      <th>0</th>\n",
              "      <td>501</td>\n",
              "      <td>1KEN</td>\n",
              "      <td>37437</td>\n",
              "      <td>1997-01-15</td>\n",
              "      <td>1997</td>\n",
              "      <td>3</td>\n",
              "      <td>Violence against civilians</td>\n",
              "      <td>Police Forces of Kenya (1978-2002)</td>\n",
              "      <td>NaN</td>\n",
              "      <td>1</td>\n",
              "      <td>Civilians (Kenya)</td>\n",
              "      <td>Samburu Ethnic Group (Kenya); Turkana Ethnic G...</td>\n",
              "      <td>7</td>\n",
              "      <td>17</td>\n",
              "      <td>Kenya</td>\n",
              "      <td>Turkana</td>\n",
              "      <td>Turkana East</td>\n",
              "      <td>Katilia</td>\n",
              "      <td>Suguta Valley</td>\n",
              "      <td>2.16667</td>\n",
              "      <td>36.51667</td>\n",
              "      <td>1</td>\n",
              "      <td>BBC Monitoring Service: Africa</td>\n",
              "      <td>Police cause unknown number of fatalities as t...</td>\n",
              "      <td>10</td>\n",
              "    </tr>\n",
              "    <tr>\n",
              "      <th>1</th>\n",
              "      <td>501</td>\n",
              "      <td>2KEN</td>\n",
              "      <td>37438</td>\n",
              "      <td>1997-01-22</td>\n",
              "      <td>1997</td>\n",
              "      <td>1</td>\n",
              "      <td>Violence against civilians</td>\n",
              "      <td>Police Forces of Kenya (1978-2002)</td>\n",
              "      <td>NaN</td>\n",
              "      <td>1</td>\n",
              "      <td>Civilians (International)</td>\n",
              "      <td>Wardei Ethnic Group (Kenya)</td>\n",
              "      <td>7</td>\n",
              "      <td>17</td>\n",
              "      <td>Kenya</td>\n",
              "      <td>Nakuru</td>\n",
              "      <td>Nakuru Town East</td>\n",
              "      <td>Kivumbini</td>\n",
              "      <td>Nakuru</td>\n",
              "      <td>-0.30000</td>\n",
              "      <td>36.08330</td>\n",
              "      <td>1</td>\n",
              "      <td>Reuters News</td>\n",
              "      <td>Police shot and killed an Irish priest (Fr. La...</td>\n",
              "      <td>1</td>\n",
              "    </tr>\n",
              "    <tr>\n",
              "      <th>2</th>\n",
              "      <td>501</td>\n",
              "      <td>3KEN</td>\n",
              "      <td>37439</td>\n",
              "      <td>1997-01-23</td>\n",
              "      <td>1997</td>\n",
              "      <td>1</td>\n",
              "      <td>Violence against civilians</td>\n",
              "      <td>Giriama Ethnic Militia (Kenya)</td>\n",
              "      <td>NaN</td>\n",
              "      <td>4</td>\n",
              "      <td>Civilians (Somalia)</td>\n",
              "      <td>IDPs/Refugees (Somalia)</td>\n",
              "      <td>7</td>\n",
              "      <td>47</td>\n",
              "      <td>Kenya</td>\n",
              "      <td>Mombasa</td>\n",
              "      <td>Mvita</td>\n",
              "      <td>Tononoka</td>\n",
              "      <td>Mombasa</td>\n",
              "      <td>-4.05000</td>\n",
              "      <td>39.66667</td>\n",
              "      <td>1</td>\n",
              "      <td>Reuters News</td>\n",
              "      <td>Two Somali refugees are burnt to death when a ...</td>\n",
              "      <td>2</td>\n",
              "    </tr>\n",
              "    <tr>\n",
              "      <th>3</th>\n",
              "      <td>501</td>\n",
              "      <td>4KEN</td>\n",
              "      <td>37440</td>\n",
              "      <td>1997-01-25</td>\n",
              "      <td>1997</td>\n",
              "      <td>1</td>\n",
              "      <td>Riots/Protests</td>\n",
              "      <td>Protesters (Kenya)</td>\n",
              "      <td>Catholic Group (Kenya)</td>\n",
              "      <td>6</td>\n",
              "      <td>NaN</td>\n",
              "      <td>NaN</td>\n",
              "      <td>0</td>\n",
              "      <td>60</td>\n",
              "      <td>Kenya</td>\n",
              "      <td>Nakuru</td>\n",
              "      <td>Nakuru Town East</td>\n",
              "      <td>Kivumbini</td>\n",
              "      <td>Nakuru</td>\n",
              "      <td>-0.30000</td>\n",
              "      <td>36.08330</td>\n",
              "      <td>1</td>\n",
              "      <td>Associated Press International</td>\n",
              "      <td>Roman Catholic Church leaders protest the poli...</td>\n",
              "      <td>0</td>\n",
              "    </tr>\n",
              "    <tr>\n",
              "      <th>4</th>\n",
              "      <td>501</td>\n",
              "      <td>5KEN</td>\n",
              "      <td>37441</td>\n",
              "      <td>1997-02-09</td>\n",
              "      <td>1997</td>\n",
              "      <td>1</td>\n",
              "      <td>Violence against civilians</td>\n",
              "      <td>Police Forces of Kenya (1978-2002)</td>\n",
              "      <td>NaN</td>\n",
              "      <td>1</td>\n",
              "      <td>Civilians (Kenya)</td>\n",
              "      <td>Safina Political Party</td>\n",
              "      <td>7</td>\n",
              "      <td>17</td>\n",
              "      <td>Kenya</td>\n",
              "      <td>Nyeri</td>\n",
              "      <td>Nyeri Town</td>\n",
              "      <td>Rware</td>\n",
              "      <td>Nyeri</td>\n",
              "      <td>-0.41667</td>\n",
              "      <td>36.95000</td>\n",
              "      <td>1</td>\n",
              "      <td>Reuters News; Agence France Presse; Associated...</td>\n",
              "      <td>Two members of Safina party and bystanders wer...</td>\n",
              "      <td>0</td>\n",
              "    </tr>\n",
              "    <tr>\n",
              "      <th>5</th>\n",
              "      <td>501</td>\n",
              "      <td>6KEN</td>\n",
              "      <td>37442</td>\n",
              "      <td>1997-02-18</td>\n",
              "      <td>1997</td>\n",
              "      <td>1</td>\n",
              "      <td>Violence against civilians</td>\n",
              "      <td>Unidentified Armed Group (Ethiopia)</td>\n",
              "      <td>NaN</td>\n",
              "      <td>3</td>\n",
              "      <td>Civilians (Kenya)</td>\n",
              "      <td>NARC: National Rainbow Coalition</td>\n",
              "      <td>7</td>\n",
              "      <td>37</td>\n",
              "      <td>Kenya</td>\n",
              "      <td>Turkana</td>\n",
              "      <td>Turkana North</td>\n",
              "      <td>Lake Zone</td>\n",
              "      <td>Todenyang</td>\n",
              "      <td>4.53333</td>\n",
              "      <td>35.93333</td>\n",
              "      <td>1</td>\n",
              "      <td>BBC Monitoring Service: Africa</td>\n",
              "      <td>Armed raiders from Ethiopia cross the Kenyan b...</td>\n",
              "      <td>8</td>\n",
              "    </tr>\n",
              "    <tr>\n",
              "      <th>6</th>\n",
              "      <td>501</td>\n",
              "      <td>8KEN</td>\n",
              "      <td>37443</td>\n",
              "      <td>1997-02-23</td>\n",
              "      <td>1997</td>\n",
              "      <td>1</td>\n",
              "      <td>Remote violence</td>\n",
              "      <td>Unidentified Armed Group (Kenya)</td>\n",
              "      <td>NaN</td>\n",
              "      <td>3</td>\n",
              "      <td>Civilians (Kenya)</td>\n",
              "      <td>Students (Kenya); Luhya Ethnic Group (Kenya)</td>\n",
              "      <td>7</td>\n",
              "      <td>37</td>\n",
              "      <td>Kenya</td>\n",
              "      <td>Kiambu</td>\n",
              "      <td>Kiambu</td>\n",
              "      <td>Riabai</td>\n",
              "      <td>Kikuyu Township</td>\n",
              "      <td>-1.16660</td>\n",
              "      <td>36.83330</td>\n",
              "      <td>1</td>\n",
              "      <td>Xinhua; Associated Press</td>\n",
              "      <td>A student leader is killed after a bomb explod...</td>\n",
              "      <td>1</td>\n",
              "    </tr>\n",
              "    <tr>\n",
              "      <th>7</th>\n",
              "      <td>501</td>\n",
              "      <td>7KEN</td>\n",
              "      <td>37444</td>\n",
              "      <td>1997-02-23</td>\n",
              "      <td>1997</td>\n",
              "      <td>1</td>\n",
              "      <td>Riots/Protests</td>\n",
              "      <td>Rioters (Kenya)</td>\n",
              "      <td>Students (Kenya)</td>\n",
              "      <td>5</td>\n",
              "      <td>NaN</td>\n",
              "      <td>NaN</td>\n",
              "      <td>0</td>\n",
              "      <td>50</td>\n",
              "      <td>Kenya</td>\n",
              "      <td>Nairobi</td>\n",
              "      <td>Starehe</td>\n",
              "      <td>Nairobi Central</td>\n",
              "      <td>Nairobi</td>\n",
              "      <td>-1.28333</td>\n",
              "      <td>36.81667</td>\n",
              "      <td>1</td>\n",
              "      <td>Reuters News; Agence France Presse</td>\n",
              "      <td>Hundreds of University of Nairobi students too...</td>\n",
              "      <td>0</td>\n",
              "    </tr>\n",
              "    <tr>\n",
              "      <th>8</th>\n",
              "      <td>501</td>\n",
              "      <td>10KEN</td>\n",
              "      <td>37445</td>\n",
              "      <td>1997-02-24</td>\n",
              "      <td>1997</td>\n",
              "      <td>1</td>\n",
              "      <td>Riots/Protests</td>\n",
              "      <td>Rioters (Kenya)</td>\n",
              "      <td>Students (Kenya)</td>\n",
              "      <td>5</td>\n",
              "      <td>NaN</td>\n",
              "      <td>NaN</td>\n",
              "      <td>0</td>\n",
              "      <td>50</td>\n",
              "      <td>Kenya</td>\n",
              "      <td>Nakuru</td>\n",
              "      <td>Nakuru Town East</td>\n",
              "      <td>Kivumbini</td>\n",
              "      <td>Nakuru</td>\n",
              "      <td>-0.30000</td>\n",
              "      <td>36.08330</td>\n",
              "      <td>1</td>\n",
              "      <td>Agence France Presse</td>\n",
              "      <td>Egerton University students in Nakuru proteste...</td>\n",
              "      <td>0</td>\n",
              "    </tr>\n",
              "    <tr>\n",
              "      <th>9</th>\n",
              "      <td>501</td>\n",
              "      <td>9KEN</td>\n",
              "      <td>37446</td>\n",
              "      <td>1997-02-24</td>\n",
              "      <td>1997</td>\n",
              "      <td>1</td>\n",
              "      <td>Riots/Protests</td>\n",
              "      <td>Rioters (Kenya)</td>\n",
              "      <td>Students (Kenya)</td>\n",
              "      <td>5</td>\n",
              "      <td>NaN</td>\n",
              "      <td>NaN</td>\n",
              "      <td>0</td>\n",
              "      <td>50</td>\n",
              "      <td>Kenya</td>\n",
              "      <td>Nairobi</td>\n",
              "      <td>Starehe</td>\n",
              "      <td>Nairobi Central</td>\n",
              "      <td>Nairobi</td>\n",
              "      <td>-1.28333</td>\n",
              "      <td>36.81667</td>\n",
              "      <td>1</td>\n",
              "      <td>Xinhua</td>\n",
              "      <td>Second day of students rioting after death of ...</td>\n",
              "      <td>0</td>\n",
              "    </tr>\n",
              "  </tbody>\n",
              "</table>\n",
              "</div>"
            ],
            "text/plain": [
              "   GWNO  ... FATALITIES\n",
              "0   501  ...         10\n",
              "1   501  ...          1\n",
              "2   501  ...          2\n",
              "3   501  ...          0\n",
              "4   501  ...          0\n",
              "5   501  ...          8\n",
              "6   501  ...          1\n",
              "7   501  ...          0\n",
              "8   501  ...          0\n",
              "9   501  ...          0\n",
              "\n",
              "[10 rows x 25 columns]"
            ]
          },
          "metadata": {},
          "execution_count": 96
        }
      ]
    },
    {
      "cell_type": "code",
      "metadata": {
        "colab": {
          "base_uri": "https://localhost:8080/",
          "height": 1000
        },
        "id": "c2hv4bUX83iI",
        "outputId": "8ebc91af-0a99-4bd6-f69e-af9d4b56e644"
      },
      "source": [
        "#Previewing the last ten rows of our data\n",
        "df.tail(10)"
      ],
      "execution_count": null,
      "outputs": [
        {
          "output_type": "execute_result",
          "data": {
            "text/html": [
              "<div>\n",
              "<style scoped>\n",
              "    .dataframe tbody tr th:only-of-type {\n",
              "        vertical-align: middle;\n",
              "    }\n",
              "\n",
              "    .dataframe tbody tr th {\n",
              "        vertical-align: top;\n",
              "    }\n",
              "\n",
              "    .dataframe thead th {\n",
              "        text-align: right;\n",
              "    }\n",
              "</style>\n",
              "<table border=\"1\" class=\"dataframe\">\n",
              "  <thead>\n",
              "    <tr style=\"text-align: right;\">\n",
              "      <th></th>\n",
              "      <th>GWNO</th>\n",
              "      <th>EVENT_ID_CNTY</th>\n",
              "      <th>EVENT_ID_NO_CNTY</th>\n",
              "      <th>EVENT_DATE</th>\n",
              "      <th>YEAR</th>\n",
              "      <th>TIME_PRECISION</th>\n",
              "      <th>EVENT_TYPE</th>\n",
              "      <th>ACTOR1</th>\n",
              "      <th>ALLY_ACTOR_1</th>\n",
              "      <th>INTER1</th>\n",
              "      <th>ACTOR2</th>\n",
              "      <th>ALLY_ACTOR_2</th>\n",
              "      <th>INTER2</th>\n",
              "      <th>INTERACTION</th>\n",
              "      <th>COUNTRY</th>\n",
              "      <th>ADMIN1</th>\n",
              "      <th>ADMIN2</th>\n",
              "      <th>ADMIN3</th>\n",
              "      <th>LOCATION</th>\n",
              "      <th>LATITUDE</th>\n",
              "      <th>LONGITUDE</th>\n",
              "      <th>GEO_PRECISION</th>\n",
              "      <th>SOURCE</th>\n",
              "      <th>NOTES</th>\n",
              "      <th>FATALITIES</th>\n",
              "    </tr>\n",
              "  </thead>\n",
              "  <tbody>\n",
              "    <tr>\n",
              "      <th>5031</th>\n",
              "      <td>501</td>\n",
              "      <td>5032KEN</td>\n",
              "      <td>42468</td>\n",
              "      <td>2015-12-26</td>\n",
              "      <td>2015</td>\n",
              "      <td>1</td>\n",
              "      <td>Battle-No change of territory</td>\n",
              "      <td>Kalenjin Ethnic Militia (Kenya)</td>\n",
              "      <td>NaN</td>\n",
              "      <td>4</td>\n",
              "      <td>Maasai Ethnic Militia (Kenya)</td>\n",
              "      <td>NaN</td>\n",
              "      <td>4</td>\n",
              "      <td>44</td>\n",
              "      <td>Kenya</td>\n",
              "      <td>Narok</td>\n",
              "      <td>Narok West</td>\n",
              "      <td>Naikarra</td>\n",
              "      <td>Olposimoru</td>\n",
              "      <td>-1.816670</td>\n",
              "      <td>35.500000</td>\n",
              "      <td>2</td>\n",
              "      <td>Daily Nation</td>\n",
              "      <td>Four are injured in continued clashes between ...</td>\n",
              "      <td>0</td>\n",
              "    </tr>\n",
              "    <tr>\n",
              "      <th>5032</th>\n",
              "      <td>501</td>\n",
              "      <td>5034KEN</td>\n",
              "      <td>42469</td>\n",
              "      <td>2015-12-26</td>\n",
              "      <td>2015</td>\n",
              "      <td>1</td>\n",
              "      <td>Remote violence</td>\n",
              "      <td>Police Forces of Kenya (2013-)</td>\n",
              "      <td>NaN</td>\n",
              "      <td>1</td>\n",
              "      <td>Al Shabaab</td>\n",
              "      <td>NaN</td>\n",
              "      <td>2</td>\n",
              "      <td>12</td>\n",
              "      <td>Kenya</td>\n",
              "      <td>Mandera</td>\n",
              "      <td>Mandera East</td>\n",
              "      <td>Township</td>\n",
              "      <td>Mandera</td>\n",
              "      <td>3.935725</td>\n",
              "      <td>41.854211</td>\n",
              "      <td>1</td>\n",
              "      <td>Associated Press</td>\n",
              "      <td>A member of al Shabaab, attempting to plant a ...</td>\n",
              "      <td>1</td>\n",
              "    </tr>\n",
              "    <tr>\n",
              "      <th>5033</th>\n",
              "      <td>501</td>\n",
              "      <td>5033KEN</td>\n",
              "      <td>42470</td>\n",
              "      <td>2015-12-26</td>\n",
              "      <td>2015</td>\n",
              "      <td>1</td>\n",
              "      <td>Violence against civilians</td>\n",
              "      <td>Vigilante Militia (Kenya)</td>\n",
              "      <td>NaN</td>\n",
              "      <td>4</td>\n",
              "      <td>Civilians (Kenya)</td>\n",
              "      <td>NaN</td>\n",
              "      <td>7</td>\n",
              "      <td>47</td>\n",
              "      <td>Kenya</td>\n",
              "      <td>Machakos</td>\n",
              "      <td>Mwala</td>\n",
              "      <td>Kibauni</td>\n",
              "      <td>Ndithini</td>\n",
              "      <td>-1.583330</td>\n",
              "      <td>37.683330</td>\n",
              "      <td>1</td>\n",
              "      <td>The Star (Nairobi)</td>\n",
              "      <td>Two suspected thieves are lynched in Ndithini ...</td>\n",
              "      <td>2</td>\n",
              "    </tr>\n",
              "    <tr>\n",
              "      <th>5034</th>\n",
              "      <td>501</td>\n",
              "      <td>5035KEN</td>\n",
              "      <td>42471</td>\n",
              "      <td>2015-12-27</td>\n",
              "      <td>2015</td>\n",
              "      <td>1</td>\n",
              "      <td>Battle-No change of territory</td>\n",
              "      <td>Kalenjin Ethnic Militia (Kenya)</td>\n",
              "      <td>NaN</td>\n",
              "      <td>4</td>\n",
              "      <td>Maasai Ethnic Militia (Kenya)</td>\n",
              "      <td>NaN</td>\n",
              "      <td>4</td>\n",
              "      <td>44</td>\n",
              "      <td>Kenya</td>\n",
              "      <td>Narok</td>\n",
              "      <td>Narok West</td>\n",
              "      <td>Naikarra</td>\n",
              "      <td>Olposimoru</td>\n",
              "      <td>-1.816670</td>\n",
              "      <td>35.500000</td>\n",
              "      <td>2</td>\n",
              "      <td>The Star (Nairobi)</td>\n",
              "      <td>Three are killed in renewed clashes between Ka...</td>\n",
              "      <td>3</td>\n",
              "    </tr>\n",
              "    <tr>\n",
              "      <th>5035</th>\n",
              "      <td>501</td>\n",
              "      <td>5036KEN</td>\n",
              "      <td>42472</td>\n",
              "      <td>2015-12-27</td>\n",
              "      <td>2015</td>\n",
              "      <td>1</td>\n",
              "      <td>Battle-No change of territory</td>\n",
              "      <td>Police Forces of Kenya (2013-)</td>\n",
              "      <td>NaN</td>\n",
              "      <td>1</td>\n",
              "      <td>Al Shabaab</td>\n",
              "      <td>NaN</td>\n",
              "      <td>2</td>\n",
              "      <td>12</td>\n",
              "      <td>Kenya</td>\n",
              "      <td>Mandera</td>\n",
              "      <td>Mandera South</td>\n",
              "      <td>Elwak South</td>\n",
              "      <td>El Wak</td>\n",
              "      <td>2.809440</td>\n",
              "      <td>40.935830</td>\n",
              "      <td>2</td>\n",
              "      <td>Agence France Presse</td>\n",
              "      <td>Two police are attacked on 27/12 along the Laf...</td>\n",
              "      <td>4</td>\n",
              "    </tr>\n",
              "    <tr>\n",
              "      <th>5036</th>\n",
              "      <td>501</td>\n",
              "      <td>5038KEN</td>\n",
              "      <td>42473</td>\n",
              "      <td>2015-12-28</td>\n",
              "      <td>2015</td>\n",
              "      <td>1</td>\n",
              "      <td>Remote violence</td>\n",
              "      <td>Al Shabaab</td>\n",
              "      <td>NaN</td>\n",
              "      <td>2</td>\n",
              "      <td>Civilians (Kenya)</td>\n",
              "      <td>NaN</td>\n",
              "      <td>7</td>\n",
              "      <td>27</td>\n",
              "      <td>Kenya</td>\n",
              "      <td>Mandera</td>\n",
              "      <td>Mandera East</td>\n",
              "      <td>Township</td>\n",
              "      <td>Mandera</td>\n",
              "      <td>3.935725</td>\n",
              "      <td>41.854211</td>\n",
              "      <td>1</td>\n",
              "      <td>Capital FM</td>\n",
              "      <td>Three people were killed and two others injure...</td>\n",
              "      <td>3</td>\n",
              "    </tr>\n",
              "    <tr>\n",
              "      <th>5037</th>\n",
              "      <td>501</td>\n",
              "      <td>5037KEN</td>\n",
              "      <td>42474</td>\n",
              "      <td>2015-12-28</td>\n",
              "      <td>2015</td>\n",
              "      <td>1</td>\n",
              "      <td>Riots/Protests</td>\n",
              "      <td>Rioters (Kenya)</td>\n",
              "      <td>NaN</td>\n",
              "      <td>5</td>\n",
              "      <td>Police Forces of Kenya (2013-)</td>\n",
              "      <td>NaN</td>\n",
              "      <td>1</td>\n",
              "      <td>15</td>\n",
              "      <td>Kenya</td>\n",
              "      <td>Mombasa</td>\n",
              "      <td>Nyali</td>\n",
              "      <td>Ziwa La NgOmbe</td>\n",
              "      <td>Bombolulu</td>\n",
              "      <td>-4.023489</td>\n",
              "      <td>39.703738</td>\n",
              "      <td>1</td>\n",
              "      <td>The Star (Nairobi)</td>\n",
              "      <td>Police clash with a group of matatu operators ...</td>\n",
              "      <td>0</td>\n",
              "    </tr>\n",
              "    <tr>\n",
              "      <th>5038</th>\n",
              "      <td>501</td>\n",
              "      <td>5039KEN</td>\n",
              "      <td>42475</td>\n",
              "      <td>2015-12-28</td>\n",
              "      <td>2015</td>\n",
              "      <td>1</td>\n",
              "      <td>Riots/Protests</td>\n",
              "      <td>Protesters (Kenya)</td>\n",
              "      <td>NaN</td>\n",
              "      <td>6</td>\n",
              "      <td>NaN</td>\n",
              "      <td>NaN</td>\n",
              "      <td>0</td>\n",
              "      <td>60</td>\n",
              "      <td>Kenya</td>\n",
              "      <td>Mandera</td>\n",
              "      <td>Mandera East</td>\n",
              "      <td>Township</td>\n",
              "      <td>Mandera</td>\n",
              "      <td>3.935725</td>\n",
              "      <td>41.854211</td>\n",
              "      <td>1</td>\n",
              "      <td>Capital FM</td>\n",
              "      <td>Three people were killed and two others injure...</td>\n",
              "      <td>0</td>\n",
              "    </tr>\n",
              "    <tr>\n",
              "      <th>5039</th>\n",
              "      <td>501</td>\n",
              "      <td>5040KEN</td>\n",
              "      <td>42476</td>\n",
              "      <td>2015-12-29</td>\n",
              "      <td>2015</td>\n",
              "      <td>1</td>\n",
              "      <td>Violence against civilians</td>\n",
              "      <td>Vigilante Militia (Kenya)</td>\n",
              "      <td>NaN</td>\n",
              "      <td>4</td>\n",
              "      <td>Civilians (Kenya)</td>\n",
              "      <td>NaN</td>\n",
              "      <td>7</td>\n",
              "      <td>47</td>\n",
              "      <td>Kenya</td>\n",
              "      <td>Kisumu</td>\n",
              "      <td>Nyakach</td>\n",
              "      <td>South West Nyakach</td>\n",
              "      <td>Nyakach</td>\n",
              "      <td>-0.383458</td>\n",
              "      <td>34.932411</td>\n",
              "      <td>1</td>\n",
              "      <td>The Star (Nairobi)</td>\n",
              "      <td>Vigilantes lynch four suspected cattle thieves...</td>\n",
              "      <td>4</td>\n",
              "    </tr>\n",
              "    <tr>\n",
              "      <th>5040</th>\n",
              "      <td>501</td>\n",
              "      <td>5041KEN</td>\n",
              "      <td>42477</td>\n",
              "      <td>2015-12-30</td>\n",
              "      <td>2015</td>\n",
              "      <td>1</td>\n",
              "      <td>Violence against civilians</td>\n",
              "      <td>Vigilante Militia (Kenya)</td>\n",
              "      <td>NaN</td>\n",
              "      <td>4</td>\n",
              "      <td>Civilians (Kenya)</td>\n",
              "      <td>NaN</td>\n",
              "      <td>7</td>\n",
              "      <td>47</td>\n",
              "      <td>Kenya</td>\n",
              "      <td>Embu</td>\n",
              "      <td>Mbeere South</td>\n",
              "      <td>Mavuria</td>\n",
              "      <td>Gikiiro</td>\n",
              "      <td>-0.666670</td>\n",
              "      <td>37.633330</td>\n",
              "      <td>1</td>\n",
              "      <td>The Star (Nairobi)</td>\n",
              "      <td>A pair of thieves are attacked and nearly lync...</td>\n",
              "      <td>0</td>\n",
              "    </tr>\n",
              "  </tbody>\n",
              "</table>\n",
              "</div>"
            ],
            "text/plain": [
              "      GWNO  ... FATALITIES\n",
              "5031   501  ...          0\n",
              "5032   501  ...          1\n",
              "5033   501  ...          2\n",
              "5034   501  ...          3\n",
              "5035   501  ...          4\n",
              "5036   501  ...          3\n",
              "5037   501  ...          0\n",
              "5038   501  ...          0\n",
              "5039   501  ...          4\n",
              "5040   501  ...          0\n",
              "\n",
              "[10 rows x 25 columns]"
            ]
          },
          "metadata": {},
          "execution_count": 97
        }
      ]
    },
    {
      "cell_type": "markdown",
      "metadata": {
        "id": "RAVzK5O6IR8v"
      },
      "source": [
        "## 1.3 Accessing Information about our Dataset"
      ]
    },
    {
      "cell_type": "markdown",
      "metadata": {
        "id": "5W7cyaIpJdaC"
      },
      "source": [
        "We might need to convert columns to the respective datatypes. This observation can be made by accessing information about the dataset."
      ]
    },
    {
      "cell_type": "code",
      "metadata": {
        "id": "0d2kfemDIYWI",
        "colab": {
          "base_uri": "https://localhost:8080/"
        },
        "outputId": "21bb2fe4-ab7f-4f76-a96c-18e3dc2d9498"
      },
      "source": [
        "# Getting to know more about the dataset by accessing its information\n",
        "\n",
        "df.info()"
      ],
      "execution_count": null,
      "outputs": [
        {
          "output_type": "stream",
          "name": "stdout",
          "text": [
            "<class 'pandas.core.frame.DataFrame'>\n",
            "RangeIndex: 5041 entries, 0 to 5040\n",
            "Data columns (total 25 columns):\n",
            " #   Column            Non-Null Count  Dtype         \n",
            "---  ------            --------------  -----         \n",
            " 0   GWNO              5041 non-null   int64         \n",
            " 1   EVENT_ID_CNTY     5041 non-null   object        \n",
            " 2   EVENT_ID_NO_CNTY  5041 non-null   int64         \n",
            " 3   EVENT_DATE        5041 non-null   datetime64[ns]\n",
            " 4   YEAR              5041 non-null   int64         \n",
            " 5   TIME_PRECISION    5041 non-null   int64         \n",
            " 6   EVENT_TYPE        5041 non-null   object        \n",
            " 7   ACTOR1            5041 non-null   object        \n",
            " 8   ALLY_ACTOR_1      531 non-null    object        \n",
            " 9   INTER1            5041 non-null   int64         \n",
            " 10  ACTOR2            3562 non-null   object        \n",
            " 11  ALLY_ACTOR_2      538 non-null    object        \n",
            " 12  INTER2            5041 non-null   int64         \n",
            " 13  INTERACTION       5041 non-null   int64         \n",
            " 14  COUNTRY           5041 non-null   object        \n",
            " 15  ADMIN1            5041 non-null   object        \n",
            " 16  ADMIN2            5041 non-null   object        \n",
            " 17  ADMIN3            5041 non-null   object        \n",
            " 18  LOCATION          5041 non-null   object        \n",
            " 19  LATITUDE          5041 non-null   float64       \n",
            " 20  LONGITUDE         5041 non-null   float64       \n",
            " 21  GEO_PRECISION     5041 non-null   int64         \n",
            " 22  SOURCE            5039 non-null   object        \n",
            " 23  NOTES             5037 non-null   object        \n",
            " 24  FATALITIES        5041 non-null   int64         \n",
            "dtypes: datetime64[ns](1), float64(2), int64(9), object(13)\n",
            "memory usage: 984.7+ KB\n"
          ]
        }
      ]
    },
    {
      "cell_type": "code",
      "metadata": {
        "colab": {
          "base_uri": "https://localhost:8080/"
        },
        "id": "TZVsGoiHa16K",
        "outputId": "b70edd90-f9cf-435f-ee24-f1a550089ac7"
      },
      "source": [
        "#We get the shape of the dataset\n",
        "df.shape"
      ],
      "execution_count": null,
      "outputs": [
        {
          "output_type": "execute_result",
          "data": {
            "text/plain": [
              "(5041, 25)"
            ]
          },
          "metadata": {},
          "execution_count": 99
        }
      ]
    },
    {
      "cell_type": "code",
      "metadata": {
        "id": "dvgFzTn7iSpT"
      },
      "source": [
        "#Creating a copy of the dataset so that we can clean the data without affecting the main dataset\n",
        "df1 = df.copy(deep = True)"
      ],
      "execution_count": null,
      "outputs": []
    },
    {
      "cell_type": "markdown",
      "metadata": {
        "id": "R9S2o1WXIhq1"
      },
      "source": [
        "## 1.4 Cleaning our Dataset"
      ]
    },
    {
      "cell_type": "markdown",
      "metadata": {
        "id": "AsBK7q0M0B5p"
      },
      "source": [
        "Let us perform data cleaning procedures below providing a documentation for our actions. We will perform as many data cleaning procedures as we think suitable for the various dimensions of data."
      ]
    },
    {
      "cell_type": "markdown",
      "metadata": {
        "id": "LgLPmaP60MCY"
      },
      "source": [
        "### 1.) Validity <font color=\"green\"></font>"
      ]
    },
    {
      "cell_type": "code",
      "metadata": {
        "id": "Xu8_fwqE0S_1",
        "colab": {
          "base_uri": "https://localhost:8080/",
          "height": 505
        },
        "outputId": "fc3a1d04-ea49-4a1c-fd2d-6db6c82c795d"
      },
      "source": [
        "# Procedure 1:\n",
        "# Data Cleaning Action: Dropping columns\n",
        "# Explanation: We drop columns that are not relevant to the research we are doing.\n",
        "#\n",
        "df1 = df1.drop(['EVENT_ID_NO_CNTY', 'LONGITUDE', 'LATITUDE', 'NOTES', 'SOURCE', 'GWNO', 'TIME_PRECISION', 'EVENT_DATE'], axis=1)\n",
        "df1.head(5)"
      ],
      "execution_count": null,
      "outputs": [
        {
          "output_type": "execute_result",
          "data": {
            "text/html": [
              "<div>\n",
              "<style scoped>\n",
              "    .dataframe tbody tr th:only-of-type {\n",
              "        vertical-align: middle;\n",
              "    }\n",
              "\n",
              "    .dataframe tbody tr th {\n",
              "        vertical-align: top;\n",
              "    }\n",
              "\n",
              "    .dataframe thead th {\n",
              "        text-align: right;\n",
              "    }\n",
              "</style>\n",
              "<table border=\"1\" class=\"dataframe\">\n",
              "  <thead>\n",
              "    <tr style=\"text-align: right;\">\n",
              "      <th></th>\n",
              "      <th>EVENT_ID_CNTY</th>\n",
              "      <th>YEAR</th>\n",
              "      <th>EVENT_TYPE</th>\n",
              "      <th>ACTOR1</th>\n",
              "      <th>ALLY_ACTOR_1</th>\n",
              "      <th>INTER1</th>\n",
              "      <th>ACTOR2</th>\n",
              "      <th>ALLY_ACTOR_2</th>\n",
              "      <th>INTER2</th>\n",
              "      <th>INTERACTION</th>\n",
              "      <th>COUNTRY</th>\n",
              "      <th>ADMIN1</th>\n",
              "      <th>ADMIN2</th>\n",
              "      <th>ADMIN3</th>\n",
              "      <th>LOCATION</th>\n",
              "      <th>GEO_PRECISION</th>\n",
              "      <th>FATALITIES</th>\n",
              "    </tr>\n",
              "  </thead>\n",
              "  <tbody>\n",
              "    <tr>\n",
              "      <th>0</th>\n",
              "      <td>1KEN</td>\n",
              "      <td>1997</td>\n",
              "      <td>Violence against civilians</td>\n",
              "      <td>Police Forces of Kenya (1978-2002)</td>\n",
              "      <td>NaN</td>\n",
              "      <td>1</td>\n",
              "      <td>Civilians (Kenya)</td>\n",
              "      <td>Samburu Ethnic Group (Kenya); Turkana Ethnic G...</td>\n",
              "      <td>7</td>\n",
              "      <td>17</td>\n",
              "      <td>Kenya</td>\n",
              "      <td>Turkana</td>\n",
              "      <td>Turkana East</td>\n",
              "      <td>Katilia</td>\n",
              "      <td>Suguta Valley</td>\n",
              "      <td>1</td>\n",
              "      <td>10</td>\n",
              "    </tr>\n",
              "    <tr>\n",
              "      <th>1</th>\n",
              "      <td>2KEN</td>\n",
              "      <td>1997</td>\n",
              "      <td>Violence against civilians</td>\n",
              "      <td>Police Forces of Kenya (1978-2002)</td>\n",
              "      <td>NaN</td>\n",
              "      <td>1</td>\n",
              "      <td>Civilians (International)</td>\n",
              "      <td>Wardei Ethnic Group (Kenya)</td>\n",
              "      <td>7</td>\n",
              "      <td>17</td>\n",
              "      <td>Kenya</td>\n",
              "      <td>Nakuru</td>\n",
              "      <td>Nakuru Town East</td>\n",
              "      <td>Kivumbini</td>\n",
              "      <td>Nakuru</td>\n",
              "      <td>1</td>\n",
              "      <td>1</td>\n",
              "    </tr>\n",
              "    <tr>\n",
              "      <th>2</th>\n",
              "      <td>3KEN</td>\n",
              "      <td>1997</td>\n",
              "      <td>Violence against civilians</td>\n",
              "      <td>Giriama Ethnic Militia (Kenya)</td>\n",
              "      <td>NaN</td>\n",
              "      <td>4</td>\n",
              "      <td>Civilians (Somalia)</td>\n",
              "      <td>IDPs/Refugees (Somalia)</td>\n",
              "      <td>7</td>\n",
              "      <td>47</td>\n",
              "      <td>Kenya</td>\n",
              "      <td>Mombasa</td>\n",
              "      <td>Mvita</td>\n",
              "      <td>Tononoka</td>\n",
              "      <td>Mombasa</td>\n",
              "      <td>1</td>\n",
              "      <td>2</td>\n",
              "    </tr>\n",
              "    <tr>\n",
              "      <th>3</th>\n",
              "      <td>4KEN</td>\n",
              "      <td>1997</td>\n",
              "      <td>Riots/Protests</td>\n",
              "      <td>Protesters (Kenya)</td>\n",
              "      <td>Catholic Group (Kenya)</td>\n",
              "      <td>6</td>\n",
              "      <td>NaN</td>\n",
              "      <td>NaN</td>\n",
              "      <td>0</td>\n",
              "      <td>60</td>\n",
              "      <td>Kenya</td>\n",
              "      <td>Nakuru</td>\n",
              "      <td>Nakuru Town East</td>\n",
              "      <td>Kivumbini</td>\n",
              "      <td>Nakuru</td>\n",
              "      <td>1</td>\n",
              "      <td>0</td>\n",
              "    </tr>\n",
              "    <tr>\n",
              "      <th>4</th>\n",
              "      <td>5KEN</td>\n",
              "      <td>1997</td>\n",
              "      <td>Violence against civilians</td>\n",
              "      <td>Police Forces of Kenya (1978-2002)</td>\n",
              "      <td>NaN</td>\n",
              "      <td>1</td>\n",
              "      <td>Civilians (Kenya)</td>\n",
              "      <td>Safina Political Party</td>\n",
              "      <td>7</td>\n",
              "      <td>17</td>\n",
              "      <td>Kenya</td>\n",
              "      <td>Nyeri</td>\n",
              "      <td>Nyeri Town</td>\n",
              "      <td>Rware</td>\n",
              "      <td>Nyeri</td>\n",
              "      <td>1</td>\n",
              "      <td>0</td>\n",
              "    </tr>\n",
              "  </tbody>\n",
              "</table>\n",
              "</div>"
            ],
            "text/plain": [
              "  EVENT_ID_CNTY  YEAR  ... GEO_PRECISION FATALITIES\n",
              "0          1KEN  1997  ...             1         10\n",
              "1          2KEN  1997  ...             1          1\n",
              "2          3KEN  1997  ...             1          2\n",
              "3          4KEN  1997  ...             1          0\n",
              "4          5KEN  1997  ...             1          0\n",
              "\n",
              "[5 rows x 17 columns]"
            ]
          },
          "metadata": {},
          "execution_count": 101
        }
      ]
    },
    {
      "cell_type": "code",
      "metadata": {
        "id": "3Hegrubg0Zns",
        "colab": {
          "base_uri": "https://localhost:8080/",
          "height": 377
        },
        "outputId": "3007a392-81e1-40b5-b39d-666f300b40f6"
      },
      "source": [
        "# Procedure 2:\n",
        "# Data Cleaning Action: Strip leading and trailing spaces\n",
        "# Explanation: Strip the leading and trailing spaces \n",
        "df1['EVENT_TYPE'] = df1['EVENT_TYPE'].str.strip()\n",
        "df1.head(3)"
      ],
      "execution_count": null,
      "outputs": [
        {
          "output_type": "execute_result",
          "data": {
            "text/html": [
              "<div>\n",
              "<style scoped>\n",
              "    .dataframe tbody tr th:only-of-type {\n",
              "        vertical-align: middle;\n",
              "    }\n",
              "\n",
              "    .dataframe tbody tr th {\n",
              "        vertical-align: top;\n",
              "    }\n",
              "\n",
              "    .dataframe thead th {\n",
              "        text-align: right;\n",
              "    }\n",
              "</style>\n",
              "<table border=\"1\" class=\"dataframe\">\n",
              "  <thead>\n",
              "    <tr style=\"text-align: right;\">\n",
              "      <th></th>\n",
              "      <th>EVENT_ID_CNTY</th>\n",
              "      <th>YEAR</th>\n",
              "      <th>EVENT_TYPE</th>\n",
              "      <th>ACTOR1</th>\n",
              "      <th>ALLY_ACTOR_1</th>\n",
              "      <th>INTER1</th>\n",
              "      <th>ACTOR2</th>\n",
              "      <th>ALLY_ACTOR_2</th>\n",
              "      <th>INTER2</th>\n",
              "      <th>INTERACTION</th>\n",
              "      <th>COUNTRY</th>\n",
              "      <th>ADMIN1</th>\n",
              "      <th>ADMIN2</th>\n",
              "      <th>ADMIN3</th>\n",
              "      <th>LOCATION</th>\n",
              "      <th>GEO_PRECISION</th>\n",
              "      <th>FATALITIES</th>\n",
              "    </tr>\n",
              "  </thead>\n",
              "  <tbody>\n",
              "    <tr>\n",
              "      <th>0</th>\n",
              "      <td>1KEN</td>\n",
              "      <td>1997</td>\n",
              "      <td>Violence against civilians</td>\n",
              "      <td>Police Forces of Kenya (1978-2002)</td>\n",
              "      <td>NaN</td>\n",
              "      <td>1</td>\n",
              "      <td>Civilians (Kenya)</td>\n",
              "      <td>Samburu Ethnic Group (Kenya); Turkana Ethnic G...</td>\n",
              "      <td>7</td>\n",
              "      <td>17</td>\n",
              "      <td>Kenya</td>\n",
              "      <td>Turkana</td>\n",
              "      <td>Turkana East</td>\n",
              "      <td>Katilia</td>\n",
              "      <td>Suguta Valley</td>\n",
              "      <td>1</td>\n",
              "      <td>10</td>\n",
              "    </tr>\n",
              "    <tr>\n",
              "      <th>1</th>\n",
              "      <td>2KEN</td>\n",
              "      <td>1997</td>\n",
              "      <td>Violence against civilians</td>\n",
              "      <td>Police Forces of Kenya (1978-2002)</td>\n",
              "      <td>NaN</td>\n",
              "      <td>1</td>\n",
              "      <td>Civilians (International)</td>\n",
              "      <td>Wardei Ethnic Group (Kenya)</td>\n",
              "      <td>7</td>\n",
              "      <td>17</td>\n",
              "      <td>Kenya</td>\n",
              "      <td>Nakuru</td>\n",
              "      <td>Nakuru Town East</td>\n",
              "      <td>Kivumbini</td>\n",
              "      <td>Nakuru</td>\n",
              "      <td>1</td>\n",
              "      <td>1</td>\n",
              "    </tr>\n",
              "    <tr>\n",
              "      <th>2</th>\n",
              "      <td>3KEN</td>\n",
              "      <td>1997</td>\n",
              "      <td>Violence against civilians</td>\n",
              "      <td>Giriama Ethnic Militia (Kenya)</td>\n",
              "      <td>NaN</td>\n",
              "      <td>4</td>\n",
              "      <td>Civilians (Somalia)</td>\n",
              "      <td>IDPs/Refugees (Somalia)</td>\n",
              "      <td>7</td>\n",
              "      <td>47</td>\n",
              "      <td>Kenya</td>\n",
              "      <td>Mombasa</td>\n",
              "      <td>Mvita</td>\n",
              "      <td>Tononoka</td>\n",
              "      <td>Mombasa</td>\n",
              "      <td>1</td>\n",
              "      <td>2</td>\n",
              "    </tr>\n",
              "  </tbody>\n",
              "</table>\n",
              "</div>"
            ],
            "text/plain": [
              "  EVENT_ID_CNTY  YEAR  ... GEO_PRECISION FATALITIES\n",
              "0          1KEN  1997  ...             1         10\n",
              "1          2KEN  1997  ...             1          1\n",
              "2          3KEN  1997  ...             1          2\n",
              "\n",
              "[3 rows x 17 columns]"
            ]
          },
          "metadata": {},
          "execution_count": 102
        }
      ]
    },
    {
      "cell_type": "code",
      "metadata": {
        "colab": {
          "base_uri": "https://localhost:8080/",
          "height": 264
        },
        "id": "gymeGLf4rCQr",
        "outputId": "566f9c56-21c5-4037-e2a1-2455023ac7e5"
      },
      "source": [
        "#Procedure 3:\n",
        "#Data Cleaning Action: Outliers\n",
        "#Explanation: There are existing outliers but they won;t be dropped as they are \n",
        "#true values to the data\n",
        "\n",
        "df1.boxplot(column =[\"FATALITIES\"], grid = False);"
      ],
      "execution_count": null,
      "outputs": [
        {
          "output_type": "display_data",
          "data": {
            "image/png": "[encoded data removed]",
            "text/plain": [
              "<Figure size 432x288 with 1 Axes>"
            ]
          },
          "metadata": {
            "needs_background": "light"
          }
        }
      ]
    },
    {
      "cell_type": "markdown",
      "metadata": {
        "id": "WYDfLUXw2Qi1"
      },
      "source": [
        "**plotting the outlier for the colum \"fatalities\""
      ]
    },
    {
      "cell_type": "markdown",
      "metadata": {
        "id": "ogvHnWWk0URF"
      },
      "source": [
        "### 2.) Accuracy <font color=\"green\"></font>"
      ]
    },
    {
      "cell_type": "code",
      "metadata": {
        "id": "fGR0p3580fCX"
      },
      "source": [
        "# Procedure 1:\n",
        "# Data Cleaning Action: No action\n",
        "# Explanation: There are no accuracy errors in the dataset"
      ],
      "execution_count": null,
      "outputs": []
    },
    {
      "cell_type": "markdown",
      "metadata": {
        "id": "4_l-hjNT0ljY"
      },
      "source": [
        "### 3.) Completeness"
      ]
    },
    {
      "cell_type": "code",
      "metadata": {
        "id": "GchjhobG0nu8",
        "colab": {
          "base_uri": "https://localhost:8080/"
        },
        "outputId": "4517e727-991e-4260-8b64-36e03e7a19b5"
      },
      "source": [
        "# Procedure 1:\n",
        "# Data Cleaning Action: Checking for null values\n",
        "# Explanation: Checking for any null values\n",
        "df1.isnull().any()"
      ],
      "execution_count": null,
      "outputs": [
        {
          "output_type": "execute_result",
          "data": {
            "text/plain": [
              "EVENT_ID_CNTY    False\n",
              "YEAR             False\n",
              "EVENT_TYPE       False\n",
              "ACTOR1           False\n",
              "ALLY_ACTOR_1      True\n",
              "INTER1           False\n",
              "ACTOR2            True\n",
              "ALLY_ACTOR_2      True\n",
              "INTER2           False\n",
              "INTERACTION      False\n",
              "COUNTRY          False\n",
              "ADMIN1           False\n",
              "ADMIN2           False\n",
              "ADMIN3           False\n",
              "LOCATION         False\n",
              "GEO_PRECISION    False\n",
              "FATALITIES       False\n",
              "dtype: bool"
            ]
          },
          "metadata": {},
          "execution_count": 105
        }
      ]
    },
    {
      "cell_type": "code",
      "metadata": {
        "colab": {
          "base_uri": "https://localhost:8080/"
        },
        "id": "tMkiMt3Hm2c5",
        "outputId": "b1c7e790-8ba6-42c1-be26-ebd549d74734"
      },
      "source": [
        "#checking the sum of null values in descending order\n",
        "df1.isnull().sum().sort_values(ascending=False)"
      ],
      "execution_count": null,
      "outputs": [
        {
          "output_type": "execute_result",
          "data": {
            "text/plain": [
              "ALLY_ACTOR_1     4510\n",
              "ALLY_ACTOR_2     4503\n",
              "ACTOR2           1479\n",
              "FATALITIES          0\n",
              "YEAR                0\n",
              "EVENT_TYPE          0\n",
              "ACTOR1              0\n",
              "INTER1              0\n",
              "INTER2              0\n",
              "GEO_PRECISION       0\n",
              "INTERACTION         0\n",
              "COUNTRY             0\n",
              "ADMIN1              0\n",
              "ADMIN2              0\n",
              "ADMIN3              0\n",
              "LOCATION            0\n",
              "EVENT_ID_CNTY       0\n",
              "dtype: int64"
            ]
          },
          "metadata": {},
          "execution_count": 106
        }
      ]
    },
    {
      "cell_type": "code",
      "metadata": {
        "colab": {
          "base_uri": "https://localhost:8080/",
          "height": 505
        },
        "id": "68t1hkT0d6gc",
        "outputId": "6de13f8d-b857-4db9-d76a-ac22fd13ea6f"
      },
      "source": [
        "# Procedure 2:\n",
        "# Data Cleaning Action: Dropping null values\n",
        "# Explanation: We will use the the dropna function with setting being at all. This will only drop rows that are made of only null values\n",
        "#\n",
        "df1.dropna(how='all').head(5)"
      ],
      "execution_count": null,
      "outputs": [
        {
          "output_type": "execute_result",
          "data": {
            "text/html": [
              "<div>\n",
              "<style scoped>\n",
              "    .dataframe tbody tr th:only-of-type {\n",
              "        vertical-align: middle;\n",
              "    }\n",
              "\n",
              "    .dataframe tbody tr th {\n",
              "        vertical-align: top;\n",
              "    }\n",
              "\n",
              "    .dataframe thead th {\n",
              "        text-align: right;\n",
              "    }\n",
              "</style>\n",
              "<table border=\"1\" class=\"dataframe\">\n",
              "  <thead>\n",
              "    <tr style=\"text-align: right;\">\n",
              "      <th></th>\n",
              "      <th>EVENT_ID_CNTY</th>\n",
              "      <th>YEAR</th>\n",
              "      <th>EVENT_TYPE</th>\n",
              "      <th>ACTOR1</th>\n",
              "      <th>ALLY_ACTOR_1</th>\n",
              "      <th>INTER1</th>\n",
              "      <th>ACTOR2</th>\n",
              "      <th>ALLY_ACTOR_2</th>\n",
              "      <th>INTER2</th>\n",
              "      <th>INTERACTION</th>\n",
              "      <th>COUNTRY</th>\n",
              "      <th>ADMIN1</th>\n",
              "      <th>ADMIN2</th>\n",
              "      <th>ADMIN3</th>\n",
              "      <th>LOCATION</th>\n",
              "      <th>GEO_PRECISION</th>\n",
              "      <th>FATALITIES</th>\n",
              "    </tr>\n",
              "  </thead>\n",
              "  <tbody>\n",
              "    <tr>\n",
              "      <th>0</th>\n",
              "      <td>1KEN</td>\n",
              "      <td>1997</td>\n",
              "      <td>Violence against civilians</td>\n",
              "      <td>Police Forces of Kenya (1978-2002)</td>\n",
              "      <td>NaN</td>\n",
              "      <td>1</td>\n",
              "      <td>Civilians (Kenya)</td>\n",
              "      <td>Samburu Ethnic Group (Kenya); Turkana Ethnic G...</td>\n",
              "      <td>7</td>\n",
              "      <td>17</td>\n",
              "      <td>Kenya</td>\n",
              "      <td>Turkana</td>\n",
              "      <td>Turkana East</td>\n",
              "      <td>Katilia</td>\n",
              "      <td>Suguta Valley</td>\n",
              "      <td>1</td>\n",
              "      <td>10</td>\n",
              "    </tr>\n",
              "    <tr>\n",
              "      <th>1</th>\n",
              "      <td>2KEN</td>\n",
              "      <td>1997</td>\n",
              "      <td>Violence against civilians</td>\n",
              "      <td>Police Forces of Kenya (1978-2002)</td>\n",
              "      <td>NaN</td>\n",
              "      <td>1</td>\n",
              "      <td>Civilians (International)</td>\n",
              "      <td>Wardei Ethnic Group (Kenya)</td>\n",
              "      <td>7</td>\n",
              "      <td>17</td>\n",
              "      <td>Kenya</td>\n",
              "      <td>Nakuru</td>\n",
              "      <td>Nakuru Town East</td>\n",
              "      <td>Kivumbini</td>\n",
              "      <td>Nakuru</td>\n",
              "      <td>1</td>\n",
              "      <td>1</td>\n",
              "    </tr>\n",
              "    <tr>\n",
              "      <th>2</th>\n",
              "      <td>3KEN</td>\n",
              "      <td>1997</td>\n",
              "      <td>Violence against civilians</td>\n",
              "      <td>Giriama Ethnic Militia (Kenya)</td>\n",
              "      <td>NaN</td>\n",
              "      <td>4</td>\n",
              "      <td>Civilians (Somalia)</td>\n",
              "      <td>IDPs/Refugees (Somalia)</td>\n",
              "      <td>7</td>\n",
              "      <td>47</td>\n",
              "      <td>Kenya</td>\n",
              "      <td>Mombasa</td>\n",
              "      <td>Mvita</td>\n",
              "      <td>Tononoka</td>\n",
              "      <td>Mombasa</td>\n",
              "      <td>1</td>\n",
              "      <td>2</td>\n",
              "    </tr>\n",
              "    <tr>\n",
              "      <th>3</th>\n",
              "      <td>4KEN</td>\n",
              "      <td>1997</td>\n",
              "      <td>Riots/Protests</td>\n",
              "      <td>Protesters (Kenya)</td>\n",
              "      <td>Catholic Group (Kenya)</td>\n",
              "      <td>6</td>\n",
              "      <td>NaN</td>\n",
              "      <td>NaN</td>\n",
              "      <td>0</td>\n",
              "      <td>60</td>\n",
              "      <td>Kenya</td>\n",
              "      <td>Nakuru</td>\n",
              "      <td>Nakuru Town East</td>\n",
              "      <td>Kivumbini</td>\n",
              "      <td>Nakuru</td>\n",
              "      <td>1</td>\n",
              "      <td>0</td>\n",
              "    </tr>\n",
              "    <tr>\n",
              "      <th>4</th>\n",
              "      <td>5KEN</td>\n",
              "      <td>1997</td>\n",
              "      <td>Violence against civilians</td>\n",
              "      <td>Police Forces of Kenya (1978-2002)</td>\n",
              "      <td>NaN</td>\n",
              "      <td>1</td>\n",
              "      <td>Civilians (Kenya)</td>\n",
              "      <td>Safina Political Party</td>\n",
              "      <td>7</td>\n",
              "      <td>17</td>\n",
              "      <td>Kenya</td>\n",
              "      <td>Nyeri</td>\n",
              "      <td>Nyeri Town</td>\n",
              "      <td>Rware</td>\n",
              "      <td>Nyeri</td>\n",
              "      <td>1</td>\n",
              "      <td>0</td>\n",
              "    </tr>\n",
              "  </tbody>\n",
              "</table>\n",
              "</div>"
            ],
            "text/plain": [
              "  EVENT_ID_CNTY  YEAR  ... GEO_PRECISION FATALITIES\n",
              "0          1KEN  1997  ...             1         10\n",
              "1          2KEN  1997  ...             1          1\n",
              "2          3KEN  1997  ...             1          2\n",
              "3          4KEN  1997  ...             1          0\n",
              "4          5KEN  1997  ...             1          0\n",
              "\n",
              "[5 rows x 17 columns]"
            ]
          },
          "metadata": {},
          "execution_count": 107
        }
      ]
    },
    {
      "cell_type": "code",
      "metadata": {
        "colab": {
          "base_uri": "https://localhost:8080/"
        },
        "id": "GaLoIWzdBlq1",
        "outputId": "00826e58-d5b7-4a7b-d7d2-e4966a379bc4"
      },
      "source": [
        "df1.shape"
      ],
      "execution_count": null,
      "outputs": [
        {
          "output_type": "execute_result",
          "data": {
            "text/plain": [
              "(5041, 17)"
            ]
          },
          "metadata": {},
          "execution_count": 108
        }
      ]
    },
    {
      "cell_type": "markdown",
      "metadata": {
        "id": "Wg_HInjk0rJG"
      },
      "source": [
        "### 4.) Consitency"
      ]
    },
    {
      "cell_type": "code",
      "metadata": {
        "id": "_xg4tFiZ0sTN",
        "colab": {
          "base_uri": "https://localhost:8080/"
        },
        "outputId": "d6b57a73-4141-41ee-b12e-a46409134f5b"
      },
      "source": [
        "# Procedure 1:\n",
        "# Data Cleaning Action: Checking for duplicates and dropping duplicates\n",
        "# Explanation: Duplicate rows will bring inconsistent values in the dataset and they will have to be dropped.\n",
        "#There are no duplicate values\n",
        "df1.duplicated().sum()"
      ],
      "execution_count": null,
      "outputs": [
        {
          "output_type": "execute_result",
          "data": {
            "text/plain": [
              "0"
            ]
          },
          "metadata": {},
          "execution_count": 109
        }
      ]
    },
    {
      "cell_type": "markdown",
      "metadata": {
        "id": "po-2IDPd0vdL"
      },
      "source": [
        "### 5.) Uniformity"
      ]
    },
    {
      "cell_type": "code",
      "metadata": {
        "id": "-3HTVQkC0xxj"
      },
      "source": [
        "# Procedure 2:\n",
        "# Data Cleaning Action: Uniformity in ACTOR 1 Police value.\n",
        "# Explanation: The police value has been divided to 3, based on year periods. The year periods are not needed and they will need to be read as a single value.\n",
        "#\n",
        "df1['ACTOR1'] = df1['ACTOR1'].replace('Police Forces of Kenya (1978-2002)','Kenya Police')\n",
        "df1['ACTOR1'] = df1['ACTOR1'].replace('Police Forces of Kenya (2002-2013)','Kenya Police')\n",
        "df1['ACTOR1'] = df1['ACTOR1'].replace('Police Forces of Kenya (2013-)','Kenya Police')\n"
      ],
      "execution_count": null,
      "outputs": []
    },
    {
      "cell_type": "code",
      "metadata": {
        "id": "BbjBt1BwlDKj"
      },
      "source": [
        "df1['ACTOR2'] = df1['ACTOR2'].replace('Police Forces of Kenya (1978-2002)','Kenya Police')\n",
        "df1['ACTOR2'] = df1['ACTOR2'].replace('Police Forces of Kenya (2002-2013)','Kenya Police')\n",
        "df1['ACTOR2'] = df1['ACTOR2'].replace('Police Forces of Kenya (2013-)','Kenya Police')"
      ],
      "execution_count": null,
      "outputs": []
    },
    {
      "cell_type": "markdown",
      "metadata": {
        "id": "dr1eyGZzt83Z"
      },
      "source": [
        "### Exporting the Cleaned Dataset"
      ]
    },
    {
      "cell_type": "code",
      "metadata": {
        "id": "igd8ULk7t95C",
        "colab": {
          "base_uri": "https://localhost:8080/",
          "height": 438
        },
        "outputId": "f6273c4a-54e8-48ff-f79f-02a8259ec7dd"
      },
      "source": [
        "# Let's export our dataframe into a csv file as shown \n",
        "# we use the to_csv function to create a csv file and export it\n",
        "\n",
        "df1.to_csv('conflicts_kenya.csv')\n",
        "df2 = pd.read_csv('conflicts_kenya.csv', index_col=0)\n",
        "df2.head(5)\n"
      ],
      "execution_count": null,
      "outputs": [
        {
          "output_type": "execute_result",
          "data": {
            "text/html": [
              "<div>\n",
              "<style scoped>\n",
              "    .dataframe tbody tr th:only-of-type {\n",
              "        vertical-align: middle;\n",
              "    }\n",
              "\n",
              "    .dataframe tbody tr th {\n",
              "        vertical-align: top;\n",
              "    }\n",
              "\n",
              "    .dataframe thead th {\n",
              "        text-align: right;\n",
              "    }\n",
              "</style>\n",
              "<table border=\"1\" class=\"dataframe\">\n",
              "  <thead>\n",
              "    <tr style=\"text-align: right;\">\n",
              "      <th></th>\n",
              "      <th>EVENT_ID_CNTY</th>\n",
              "      <th>YEAR</th>\n",
              "      <th>EVENT_TYPE</th>\n",
              "      <th>ACTOR1</th>\n",
              "      <th>ALLY_ACTOR_1</th>\n",
              "      <th>INTER1</th>\n",
              "      <th>ACTOR2</th>\n",
              "      <th>ALLY_ACTOR_2</th>\n",
              "      <th>INTER2</th>\n",
              "      <th>INTERACTION</th>\n",
              "      <th>COUNTRY</th>\n",
              "      <th>ADMIN1</th>\n",
              "      <th>ADMIN2</th>\n",
              "      <th>ADMIN3</th>\n",
              "      <th>LOCATION</th>\n",
              "      <th>GEO_PRECISION</th>\n",
              "      <th>FATALITIES</th>\n",
              "    </tr>\n",
              "  </thead>\n",
              "  <tbody>\n",
              "    <tr>\n",
              "      <th>0</th>\n",
              "      <td>1KEN</td>\n",
              "      <td>1997</td>\n",
              "      <td>Violence against civilians</td>\n",
              "      <td>Kenya Police</td>\n",
              "      <td>NaN</td>\n",
              "      <td>1</td>\n",
              "      <td>Civilians (Kenya)</td>\n",
              "      <td>Samburu Ethnic Group (Kenya); Turkana Ethnic G...</td>\n",
              "      <td>7</td>\n",
              "      <td>17</td>\n",
              "      <td>Kenya</td>\n",
              "      <td>Turkana</td>\n",
              "      <td>Turkana East</td>\n",
              "      <td>Katilia</td>\n",
              "      <td>Suguta Valley</td>\n",
              "      <td>1</td>\n",
              "      <td>10</td>\n",
              "    </tr>\n",
              "    <tr>\n",
              "      <th>1</th>\n",
              "      <td>2KEN</td>\n",
              "      <td>1997</td>\n",
              "      <td>Violence against civilians</td>\n",
              "      <td>Kenya Police</td>\n",
              "      <td>NaN</td>\n",
              "      <td>1</td>\n",
              "      <td>Civilians (International)</td>\n",
              "      <td>Wardei Ethnic Group (Kenya)</td>\n",
              "      <td>7</td>\n",
              "      <td>17</td>\n",
              "      <td>Kenya</td>\n",
              "      <td>Nakuru</td>\n",
              "      <td>Nakuru Town East</td>\n",
              "      <td>Kivumbini</td>\n",
              "      <td>Nakuru</td>\n",
              "      <td>1</td>\n",
              "      <td>1</td>\n",
              "    </tr>\n",
              "    <tr>\n",
              "      <th>2</th>\n",
              "      <td>3KEN</td>\n",
              "      <td>1997</td>\n",
              "      <td>Violence against civilians</td>\n",
              "      <td>Giriama Ethnic Militia (Kenya)</td>\n",
              "      <td>NaN</td>\n",
              "      <td>4</td>\n",
              "      <td>Civilians (Somalia)</td>\n",
              "      <td>IDPs/Refugees (Somalia)</td>\n",
              "      <td>7</td>\n",
              "      <td>47</td>\n",
              "      <td>Kenya</td>\n",
              "      <td>Mombasa</td>\n",
              "      <td>Mvita</td>\n",
              "      <td>Tononoka</td>\n",
              "      <td>Mombasa</td>\n",
              "      <td>1</td>\n",
              "      <td>2</td>\n",
              "    </tr>\n",
              "    <tr>\n",
              "      <th>3</th>\n",
              "      <td>4KEN</td>\n",
              "      <td>1997</td>\n",
              "      <td>Riots/Protests</td>\n",
              "      <td>Protesters (Kenya)</td>\n",
              "      <td>Catholic Group (Kenya)</td>\n",
              "      <td>6</td>\n",
              "      <td>NaN</td>\n",
              "      <td>NaN</td>\n",
              "      <td>0</td>\n",
              "      <td>60</td>\n",
              "      <td>Kenya</td>\n",
              "      <td>Nakuru</td>\n",
              "      <td>Nakuru Town East</td>\n",
              "      <td>Kivumbini</td>\n",
              "      <td>Nakuru</td>\n",
              "      <td>1</td>\n",
              "      <td>0</td>\n",
              "    </tr>\n",
              "    <tr>\n",
              "      <th>4</th>\n",
              "      <td>5KEN</td>\n",
              "      <td>1997</td>\n",
              "      <td>Violence against civilians</td>\n",
              "      <td>Kenya Police</td>\n",
              "      <td>NaN</td>\n",
              "      <td>1</td>\n",
              "      <td>Civilians (Kenya)</td>\n",
              "      <td>Safina Political Party</td>\n",
              "      <td>7</td>\n",
              "      <td>17</td>\n",
              "      <td>Kenya</td>\n",
              "      <td>Nyeri</td>\n",
              "      <td>Nyeri Town</td>\n",
              "      <td>Rware</td>\n",
              "      <td>Nyeri</td>\n",
              "      <td>1</td>\n",
              "      <td>0</td>\n",
              "    </tr>\n",
              "  </tbody>\n",
              "</table>\n",
              "</div>"
            ],
            "text/plain": [
              "  EVENT_ID_CNTY  YEAR  ... GEO_PRECISION FATALITIES\n",
              "0          1KEN  1997  ...             1         10\n",
              "1          2KEN  1997  ...             1          1\n",
              "2          3KEN  1997  ...             1          2\n",
              "3          4KEN  1997  ...             1          0\n",
              "4          5KEN  1997  ...             1          0\n",
              "\n",
              "[5 rows x 17 columns]"
            ]
          },
          "metadata": {},
          "execution_count": 112
        }
      ]
    },
    {
      "cell_type": "markdown",
      "metadata": {
        "id": "NicC8P9LMjvO"
      },
      "source": [
        "## 1.5 DATA ANALYSIS"
      ]
    },
    {
      "cell_type": "markdown",
      "metadata": {
        "id": "8izhaW7UNYGJ"
      },
      "source": [
        "Let's answer the following questions with our dataset"
      ]
    },
    {
      "cell_type": "code",
      "metadata": {
        "id": "tTOgnXvuMxcn",
        "colab": {
          "base_uri": "https://localhost:8080/"
        },
        "outputId": "06897b4e-9094-4b51-cd87-b8989d6ba71b"
      },
      "source": [
        "# Question 1\n",
        "# What is the main cause of conflicts in Kenya?(EVENT_TYPE)\n",
        " \n",
        "df2['EVENT_TYPE'].groupby(df2['EVENT_TYPE']).count().sort_values(ascending=False) [0:5]\n"
      ],
      "execution_count": null,
      "outputs": [
        {
          "output_type": "execute_result",
          "data": {
            "text/plain": [
              "EVENT_TYPE\n",
              "Riots/Protests                   1914\n",
              "Violence against civilians       1671\n",
              "Battle-No change of territory    1125\n",
              "Strategic development             217\n",
              "Remote violence                    99\n",
              "Name: EVENT_TYPE, dtype: int64"
            ]
          },
          "metadata": {},
          "execution_count": 113
        }
      ]
    },
    {
      "cell_type": "code",
      "metadata": {
        "colab": {
          "base_uri": "https://localhost:8080/",
          "height": 416
        },
        "id": "JaK6PbUW5Jb-",
        "outputId": "e16f79e0-1917-4572-c333-eb356dfb893d"
      },
      "source": [
        "df2['EVENT_TYPE'].groupby(df2['EVENT_TYPE']).count().sort_values(ascending=False)[0:5].to_frame().plot(kind='bar');"
      ],
      "execution_count": null,
      "outputs": [
        {
          "output_type": "display_data",
          "data": {
            "image/png": "[encoded data removed]",
            "text/plain": [
              "<Figure size 432x288 with 1 Axes>"
            ]
          },
          "metadata": {
            "needs_background": "light"
          }
        }
      ]
    },
    {
      "cell_type": "markdown",
      "metadata": {
        "id": "JhJ4eW_e5L4v"
      },
      "source": [
        "Between 1978 and 2015, the main cause of conflicts in Kenya has been Riots/Protests."
      ]
    },
    {
      "cell_type": "code",
      "metadata": {
        "id": "BNegesaWNvQs",
        "colab": {
          "base_uri": "https://localhost:8080/"
        },
        "outputId": "af6c8519-e8e0-48ac-ba44-32aba18f6162"
      },
      "source": [
        "# Question 2\n",
        "# Who was the main actor in conflict in Kenya?(ACTOR1)\n",
        "\n",
        "df2['ACTOR1'].groupby(df2['ACTOR1']).count().sort_values(ascending=False) [0:5]"
      ],
      "execution_count": null,
      "outputs": [
        {
          "output_type": "execute_result",
          "data": {
            "text/plain": [
              "ACTOR1\n",
              "Protesters (Kenya)                  1022\n",
              "Rioters (Kenya)                      810\n",
              "Unidentified Armed Group (Kenya)     653\n",
              "Kenya Police                         625\n",
              "Vigilante Militia (Kenya)            164\n",
              "Name: ACTOR1, dtype: int64"
            ]
          },
          "metadata": {},
          "execution_count": 115
        }
      ]
    },
    {
      "cell_type": "markdown",
      "metadata": {
        "id": "j5CvCXfG5p-0"
      },
      "source": [
        "Kenyan protesters were involved in conflicts in Kenya between 1978 and 2015"
      ]
    },
    {
      "cell_type": "code",
      "metadata": {
        "colab": {
          "base_uri": "https://localhost:8080/",
          "height": 441
        },
        "id": "diH0CSp-Izql",
        "outputId": "9294aab2-7988-4bcf-d0f1-ba97ce6e11df"
      },
      "source": [
        "df2['ACTOR1'].groupby(df2['ACTOR1']).count().sort_values(ascending=False)[0:5].to_frame().plot(kind='bar');"
      ],
      "execution_count": null,
      "outputs": [
        {
          "output_type": "display_data",
          "data": {
            "image/png": "[encoded data removed]",
            "text/plain": [
              "<Figure size 432x288 with 1 Axes>"
            ]
          },
          "metadata": {
            "needs_background": "light"
          }
        }
      ]
    },
    {
      "cell_type": "code",
      "metadata": {
        "id": "7tilTerhNyiP",
        "colab": {
          "base_uri": "https://localhost:8080/"
        },
        "outputId": "a66ce820-2df6-4336-f602-908152bf41ce"
      },
      "source": [
        "# Question 3\n",
        "# Who was the main ACTOR2 involved in Kenyan conflicts?\n",
        "\n",
        "df2['ACTOR2'].groupby(df2['ACTOR2']).count().sort_values(ascending=False)[0:5]"
      ],
      "execution_count": null,
      "outputs": [
        {
          "output_type": "execute_result",
          "data": {
            "text/plain": [
              "ACTOR2\n",
              "Civilians (Kenya)                   1496\n",
              "Kenya Police                         713\n",
              "Unidentified Armed Group (Kenya)     231\n",
              "Rioters (Kenya)                      127\n",
              "Al Shabaab                           123\n",
              "Name: ACTOR2, dtype: int64"
            ]
          },
          "metadata": {},
          "execution_count": 117
        }
      ]
    },
    {
      "cell_type": "code",
      "metadata": {
        "colab": {
          "base_uri": "https://localhost:8080/",
          "height": 441
        },
        "id": "Jk3oIBJmJDfB",
        "outputId": "13cb103b-e707-42b5-b3f0-a78cec53a45e"
      },
      "source": [
        "df2['ACTOR2'].groupby(df2['ACTOR2']).count().sort_values(ascending=False)[0:5].to_frame().plot(kind='bar');"
      ],
      "execution_count": null,
      "outputs": [
        {
          "output_type": "display_data",
          "data": {
            "image/png": "[encoded data removed]",
            "text/plain": [
              "<Figure size 432x288 with 1 Axes>"
            ]
          },
          "metadata": {
            "needs_background": "light"
          }
        }
      ]
    },
    {
      "cell_type": "markdown",
      "metadata": {
        "id": "GNHV4lFN7402"
      },
      "source": [
        "Kenyan civilians were the most common secondary party in Kenyan conflicts between 1978 and 2015."
      ]
    },
    {
      "cell_type": "code",
      "metadata": {
        "id": "rhXeHa6IOBsq",
        "colab": {
          "base_uri": "https://localhost:8080/"
        },
        "outputId": "9d530693-117e-41d5-be2a-4e5e8496b2f1"
      },
      "source": [
        "# Question 4\n",
        "# How many conflicts had ACTOR1 and no ACTOR2\n",
        "df2['ACTOR1'].loc[df2['ACTOR2'].isnull()].count()\n",
        "\n"
      ],
      "execution_count": null,
      "outputs": [
        {
          "output_type": "execute_result",
          "data": {
            "text/plain": [
              "1479"
            ]
          },
          "metadata": {},
          "execution_count": 119
        }
      ]
    },
    {
      "cell_type": "code",
      "metadata": {
        "id": "wddDP6yCOD_F",
        "colab": {
          "base_uri": "https://localhost:8080/"
        },
        "outputId": "e1220443-98a6-4e78-8a12-aa272497325e"
      },
      "source": [
        "# Question 5\n",
        "#How many conflicts in kenya have the police been the main actors?\n",
        "\n",
        "df2['ACTOR1'].loc[df2['ACTOR1'] == 'Kenya Police'].count()"
      ],
      "execution_count": null,
      "outputs": [
        {
          "output_type": "execute_result",
          "data": {
            "text/plain": [
              "625"
            ]
          },
          "metadata": {},
          "execution_count": 120
        }
      ]
    },
    {
      "cell_type": "markdown",
      "metadata": {
        "id": "x3yUHOhcoU03"
      },
      "source": [
        "Kenyan Police have been the main actor of 625 conflicts between 1978 and 2015"
      ]
    },
    {
      "cell_type": "code",
      "metadata": {
        "id": "CIxC5arSOLak",
        "colab": {
          "base_uri": "https://localhost:8080/"
        },
        "outputId": "ca00f298-c08a-4faf-ac7a-19bc03181978"
      },
      "source": [
        "# Question 6\n",
        "# How many conflicts have civilians in Kenya been the main actors\n",
        "\n",
        "df2['ACTOR1'].loc[df2['ACTOR1'] == 'Civilians (Kenya)'].count()"
      ],
      "execution_count": null,
      "outputs": [
        {
          "output_type": "execute_result",
          "data": {
            "text/plain": [
              "133"
            ]
          },
          "metadata": {},
          "execution_count": 121
        }
      ]
    },
    {
      "cell_type": "markdown",
      "metadata": {
        "id": "-9r18obvCApO"
      },
      "source": [
        "Civilians have been main actors in 133 conflicts since 1978-2015"
      ]
    },
    {
      "cell_type": "code",
      "metadata": {
        "id": "gSjjnw56OP8O",
        "colab": {
          "base_uri": "https://localhost:8080/"
        },
        "outputId": "8068ee09-3943-4da5-ceca-5e34122d40fb"
      },
      "source": [
        "# Question 7\n",
        "# How many conflicts have the un-identified ethnic militia(Kenya) been the main actors\n",
        "\n",
        "df2['ACTOR1'].loc[df2['ACTOR1'] == 'Unidentified Ethnic Militia (Kenya)'].count()"
      ],
      "execution_count": null,
      "outputs": [
        {
          "output_type": "execute_result",
          "data": {
            "text/plain": [
              "149"
            ]
          },
          "metadata": {},
          "execution_count": 122
        }
      ]
    },
    {
      "cell_type": "markdown",
      "metadata": {
        "id": "QZwaIct_Ch2o"
      },
      "source": [
        "Unidentified ethnic militia based in Kenya have been the  main actors in 164 conflicts"
      ]
    },
    {
      "cell_type": "code",
      "metadata": {
        "id": "UZLYqF7UOTtu",
        "colab": {
          "base_uri": "https://localhost:8080/"
        },
        "outputId": "bef1ebfa-aa6e-406b-e497-393c5f452f7a"
      },
      "source": [
        "# Question 8\n",
        "# Which city (admin1) has had the most conflicts?\n",
        "\n",
        "df2['ADMIN1'].groupby(df2['ADMIN1']).count().sort_values(ascending=False)[0:5]"
      ],
      "execution_count": null,
      "outputs": [
        {
          "output_type": "execute_result",
          "data": {
            "text/plain": [
              "ADMIN1\n",
              "Nairobi    951\n",
              "Nakuru     317\n",
              "Mombasa    285\n",
              "Turkana    274\n",
              "Garissa    228\n",
              "Name: ADMIN1, dtype: int64"
            ]
          },
          "metadata": {},
          "execution_count": 123
        }
      ]
    },
    {
      "cell_type": "code",
      "metadata": {
        "colab": {
          "base_uri": "https://localhost:8080/",
          "height": 316
        },
        "id": "45HUXhXk5n9p",
        "outputId": "279d4cdb-156f-4476-bfde-356623240fb5"
      },
      "source": [
        "df2['ADMIN1'].groupby(df2['ADMIN1']).count().sort_values(ascending=False)[0:5].to_frame().plot(kind='bar');"
      ],
      "execution_count": null,
      "outputs": [
        {
          "output_type": "display_data",
          "data": {
            "image/png": "[encoded data removed]",
            "text/plain": [
              "<Figure size 432x288 with 1 Axes>"
            ]
          },
          "metadata": {
            "needs_background": "light"
          }
        }
      ]
    },
    {
      "cell_type": "markdown",
      "metadata": {
        "id": "Fkc5Ye2rEIPw"
      },
      "source": [
        "Nairobi City had the most conflicts with 951 cases in the period."
      ]
    },
    {
      "cell_type": "code",
      "metadata": {
        "id": "1qk8wF3MOXDu",
        "colab": {
          "base_uri": "https://localhost:8080/"
        },
        "outputId": "86c6fa05-6aad-4957-8bf0-fd47091a2443"
      },
      "source": [
        "# Question 9\n",
        "# Which city has had the most fatalities? \n",
        "\n",
        "df2['FATALITIES'].groupby(df2['ADMIN1']).sum().sort_values(ascending=False)[0:5]\n"
      ],
      "execution_count": null,
      "outputs": [
        {
          "output_type": "execute_result",
          "data": {
            "text/plain": [
              "ADMIN1\n",
              "Turkana     1444\n",
              "Nairobi      974\n",
              "Mandera      844\n",
              "Marsabit     637\n",
              "Nakuru       521\n",
              "Name: FATALITIES, dtype: int64"
            ]
          },
          "metadata": {},
          "execution_count": 125
        }
      ]
    },
    {
      "cell_type": "code",
      "metadata": {
        "colab": {
          "base_uri": "https://localhost:8080/",
          "height": 313
        },
        "id": "w58zzSmJ552q",
        "outputId": "ba187bf1-ad84-4548-bb05-a8b1f3e9e326"
      },
      "source": [
        "df2['FATALITIES'].groupby(df2['ADMIN1']).sum().sort_values(ascending=False)[0:5].to_frame().plot(kind='bar');"
      ],
      "execution_count": null,
      "outputs": [
        {
          "output_type": "display_data",
          "data": {
            "image/png": "[encoded data removed]",
            "text/plain": [
              "<Figure size 432x288 with 1 Axes>"
            ]
          },
          "metadata": {
            "needs_background": "light"
          }
        }
      ]
    },
    {
      "cell_type": "markdown",
      "metadata": {
        "id": "1RGwvVGEEzxN"
      },
      "source": [
        "Turkana had the most fatalities with atleast 1444 cases"
      ]
    },
    {
      "cell_type": "code",
      "metadata": {
        "id": "8xkStdjdXS3w"
      },
      "source": [
        "# Question 10\n",
        "# Is the city with the most conflicts the one that has had the most fatalities?\n",
        "\n",
        "#No, Nairobi had the most conflicts while Turkana had the most fatalities."
      ],
      "execution_count": null,
      "outputs": []
    },
    {
      "cell_type": "markdown",
      "metadata": {
        "id": "CesKw7U4F2dL"
      },
      "source": [
        "No, Nairobi had the most conflicts while Turkana had the most fatalities."
      ]
    },
    {
      "cell_type": "code",
      "metadata": {
        "id": "rgVsXH_5XVCh",
        "colab": {
          "base_uri": "https://localhost:8080/"
        },
        "outputId": "4134fd55-92dc-4102-ae2a-9a3449d17ef6"
      },
      "source": [
        "# Question 11\n",
        "# Which city (admin1) has had the least conflicts?\n",
        "df2['ADMIN1'].groupby(df2['ADMIN1']).count().sort_values(ascending=True)[0:1]\n"
      ],
      "execution_count": null,
      "outputs": [
        {
          "output_type": "execute_result",
          "data": {
            "text/plain": [
              "ADMIN1\n",
              "Lake Victoria    3\n",
              "Name: ADMIN1, dtype: int64"
            ]
          },
          "metadata": {},
          "execution_count": 128
        }
      ]
    },
    {
      "cell_type": "markdown",
      "metadata": {
        "id": "YYKuz0XnGjfi"
      },
      "source": [
        "Lake Victoria had the least conflicts with 3 cases"
      ]
    },
    {
      "cell_type": "code",
      "metadata": {
        "id": "q1iq02FuXc2R",
        "colab": {
          "base_uri": "https://localhost:8080/"
        },
        "outputId": "51d3f485-efdc-42a7-979f-3940d54c74a4"
      },
      "source": [
        "# Question 12\n",
        "#Which city has had the least fatalities? \n",
        "#\n",
        "df2['FATALITIES'].groupby(df2['ADMIN1']).sum().sort_values(ascending=True)[0:1]"
      ],
      "execution_count": null,
      "outputs": [
        {
          "output_type": "execute_result",
          "data": {
            "text/plain": [
              "ADMIN1\n",
              "Lake Victoria    0\n",
              "Name: FATALITIES, dtype: int64"
            ]
          },
          "metadata": {},
          "execution_count": 129
        }
      ]
    },
    {
      "cell_type": "markdown",
      "metadata": {
        "id": "JHAFjPZmG_ka"
      },
      "source": [
        "**Lake Victoria had the least fatalities with 0 cases"
      ]
    },
    {
      "cell_type": "code",
      "metadata": {
        "id": "drAWpxBZXhcF"
      },
      "source": [
        "# Question 13 \n",
        "#Is the city with the least conflicts the one that has had the least fatalities\n",
        "\n",
        "#YES"
      ],
      "execution_count": null,
      "outputs": []
    },
    {
      "cell_type": "markdown",
      "metadata": {
        "id": "_DuFY1PFHHlR"
      },
      "source": [
        "YES"
      ]
    },
    {
      "cell_type": "code",
      "metadata": {
        "colab": {
          "base_uri": "https://localhost:8080/"
        },
        "id": "5u-b0D4HHWa6",
        "outputId": "f51e2850-b145-4bdf-a6d1-d730e43e76f8"
      },
      "source": [
        "# Question 14\n",
        "# Which year had the most conflicts?\n",
        "\n",
        "df2['EVENT_TYPE'].groupby(df2['YEAR']).count().sort_values(ascending=False)[0:5]\n"
      ],
      "execution_count": null,
      "outputs": [
        {
          "output_type": "execute_result",
          "data": {
            "text/plain": [
              "YEAR\n",
              "2013    668\n",
              "2014    468\n",
              "2008    464\n",
              "2012    436\n",
              "2007    434\n",
              "Name: EVENT_TYPE, dtype: int64"
            ]
          },
          "metadata": {},
          "execution_count": 131
        }
      ]
    },
    {
      "cell_type": "code",
      "metadata": {
        "colab": {
          "base_uri": "https://localhost:8080/",
          "height": 297
        },
        "id": "SJus8FnD6MDc",
        "outputId": "dbc58ee0-f89b-453f-ea7a-10ae0489fa30"
      },
      "source": [
        "df2['EVENT_TYPE'].groupby(df2['YEAR']).count().sort_values(ascending=False).to_frame().plot(kind='bar');"
      ],
      "execution_count": null,
      "outputs": [
        {
          "output_type": "display_data",
          "data": {
            "image/png": "[encoded data removed]",
            "text/plain": [
              "<Figure size 432x288 with 1 Axes>"
            ]
          },
          "metadata": {
            "needs_background": "light"
          }
        }
      ]
    },
    {
      "cell_type": "markdown",
      "metadata": {
        "id": "_pGDTIcaH8GP"
      },
      "source": [
        "2013 had the most conflicts overall wuth 668 cases"
      ]
    },
    {
      "cell_type": "code",
      "metadata": {
        "colab": {
          "base_uri": "https://localhost:8080/"
        },
        "id": "nNPZqa-QHi5G",
        "outputId": "d63ea4af-a8c2-4c5e-b3b4-5d0fd3f2fee0"
      },
      "source": [
        "#Question 15\n",
        "# What was the main cause of conflicts that year(event type)?\n",
        "\n",
        "df2['EVENT_TYPE'].loc[df2['YEAR'] == 2013].groupby(df2['EVENT_TYPE']).count().sort_values(ascending=False)[0:1]"
      ],
      "execution_count": null,
      "outputs": [
        {
          "output_type": "execute_result",
          "data": {
            "text/plain": [
              "EVENT_TYPE\n",
              "Riots/Protests    284\n",
              "Name: EVENT_TYPE, dtype: int64"
            ]
          },
          "metadata": {},
          "execution_count": 133
        }
      ]
    },
    {
      "cell_type": "code",
      "metadata": {
        "colab": {
          "base_uri": "https://localhost:8080/",
          "height": 414
        },
        "id": "Xkra2KQzJbsz",
        "outputId": "7f9b7546-de9a-4caf-db52-f0ce3c18e6af"
      },
      "source": [
        "df2['EVENT_TYPE'].loc[df2['YEAR'] == 2013].groupby(df2['EVENT_TYPE']).count().sort_values(ascending=False)[0:5].plot(kind='bar');"
      ],
      "execution_count": null,
      "outputs": [
        {
          "output_type": "display_data",
          "data": {
            "image/png": "[encoded data removed]",
            "text/plain": [
              "<Figure size 432x288 with 1 Axes>"
            ]
          },
          "metadata": {
            "needs_background": "light"
          }
        }
      ]
    },
    {
      "cell_type": "markdown",
      "metadata": {
        "id": "OfHkKlMxIhwi"
      },
      "source": [
        "The main cause of conflict in 2013 was Riots/Protests with 284 cases"
      ]
    },
    {
      "cell_type": "markdown",
      "metadata": {
        "id": "hMLeNL3_FbFq"
      },
      "source": [
        "## **Findings**\n",
        "\n",
        "1. The main cause of conflict in Kenya was Riots/Protests with a value of 1914. \n",
        "\n",
        "2. The main actors involved were protesters with a value of 1022.  \n",
        "\n",
        "3. Nairobi was the city that was susceptible to most conflict cases. However, it was not the city with the most fatalities.\n",
        "\n"
      ]
    },
    {
      "cell_type": "markdown",
      "metadata": {
        "id": "0lG_QLTKHuyf"
      },
      "source": [
        "# **Recommendations**\n",
        "\n",
        "\n",
        "\n",
        "*   Find better ways of dealing with protests and protesters as the main cause of conflict\n",
        "*   The Kenya Police, a prevalent actor in conflicts and handler of protests can identify better ways to handle them.\n",
        "\n",
        "*   Protesters can be shown ways to handle their protests peacefully to keep fatalities at minimum\n",
        "*   Beef up security in conflict stricken cities.\n",
        "\n",
        "\n",
        "\n"
      ]
    }
  ]
}